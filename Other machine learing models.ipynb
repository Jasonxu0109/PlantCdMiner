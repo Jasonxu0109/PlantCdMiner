{
 "cells": [
  {
   "cell_type": "code",
   "execution_count": 2,
   "id": "40952c2f",
   "metadata": {},
   "outputs": [],
   "source": [
    "# load required R packages\n",
    "# 载入需要的R包\n",
    "library(tidyverse)\n",
    "library(DESeq2)\n",
    "library(BioSeqUtils)\n",
    "library(caret)\n",
    "library(randomForest)\n",
    "library(ROCR) \n",
    "library(pROC)\n",
    "library(ggplot2)\n",
    "library(PRROC)\n",
    "library(tidymodels)\n",
    "library(Seurat)\n",
    "library(patchwork)\n",
    "library(ggsci)\n",
    "library(ada)\n",
    "library(plotrix)\n",
    "library(kernlab)\n",
    "library(precrec)"
   ]
  },
  {
   "cell_type": "code",
   "execution_count": 3,
   "id": "a58a34ff",
   "metadata": {},
   "outputs": [],
   "source": [
    "#setting working directory\n",
    "# 设置工作路径\n",
    "setwd(\"D:\\\\project\\\\白骨壤Cd\")"
   ]
  },
  {
   "cell_type": "code",
   "execution_count": 4,
   "id": "511c2cb1",
   "metadata": {},
   "outputs": [],
   "source": [
    "theme_cleveland <- function (rotate = TRUE) \n",
    "{\n",
    "    if (rotate) {\n",
    "        theme(panel.grid.major.x = element_blank(), panel.grid.minor.x = element_blank(), \n",
    "            panel.grid.major.y = element_line(colour = \"grey70\", \n",
    "                linetype = \"dashed\"))\n",
    "    }\n",
    "}"
   ]
  },
  {
   "cell_type": "code",
   "execution_count": 5,
   "id": "1802e7dc",
   "metadata": {},
   "outputs": [],
   "source": [
    "# model evaluation metrics\n",
    "# 模型评估指标\n",
    "metrics2 <- function(Pred,realY){\n",
    "  AUC_ROC <- roc(realY,Pred)\n",
    "  AUC_ROC <- AUC_ROC$auc\n",
    "  pred.class <- as.integer(Pred > 0.5)\n",
    "  TBL <- table(pred.class, realY)\n",
    "  TP <- TBL[2,2]\n",
    "  FP <- TBL[2,1]                  \n",
    "  TN <- TBL[1,1]                                                                     \n",
    "  FN <- TBL[1,2]\n",
    "  Specificity <- TN/(TN+FP)\n",
    "  Sensitivity <- TP/(TP+FN)\n",
    "  Precision <- TP/(TP+FP)\n",
    "  Recall <- TP/(TP+FN)\n",
    "  F1 <- 2 * (Precision*Recall/(Precision+Recall))\n",
    "  MCC <- (TP*TN-FP*FN)/sqrt((TP+FP)*(TP+FN))/sqrt((TN+FP)*(TN+FN))\n",
    "  Accuracy <- (TP+TN)/(TP+TN+FP+FN)\n",
    "  tmp <- data.frame(V1=realY, V2=Pred)\n",
    "  tmp$V1 <- factor(tmp$V1)\n",
    "  tmp <- evalmod(scores = tmp$V2, labels = tmp$V1)\n",
    "  aucs <- auc(tmp)\n",
    "  AUC_PRC <- subset(aucs, curvetypes == \"PRC\")\n",
    "  AUC_PRC <- AUC_PRC$aucs\n",
    "  re <- data.frame(Sensitivity,Specificity,Precision,Recall,Accuracy,AUC_ROC,AUC_PRC,MCC,F1)\n",
    "  return(re)\n",
    "}"
   ]
  },
  {
   "cell_type": "code",
   "execution_count": 6,
   "id": "19c4412a",
   "metadata": {},
   "outputs": [],
   "source": [
    "# custom function for differentially expressed genes analysis using DESeq2 R package\n",
    "# 构建函数，使用DESeq2进行差异表达分析\n",
    "DEG <- function(count,sampleNames,comparison,rep=3){\n",
    "    data <- count[,sampleNames]\n",
    "    countData <- as.matrix(data)\n",
    "    condition <- c(rep(\"control\",rep),rep(\"treatment\",rep))\n",
    "    database <- data.frame(name=sampleNames, condition=condition)\n",
    "    database$condition <- factor(database$condition)\n",
    "    rownames(database) <- sampleNames\n",
    "    dds <- DESeqDataSetFromMatrix(countData, colData=database, design= ~ condition)\n",
    "    dds <- dds[ rowSums(counts(dds)) > 10, ]\n",
    "    dds <- DESeq(dds)\n",
    "    res <- results(dds,contrast=c(\"condition\", \"treatment\", \"control\"))\n",
    "    res <- res %>%\n",
    "        as.data.frame() %>%\n",
    "        mutate(comparison=comparison,gene=rownames(res))\n",
    "    return(res)\n",
    "}"
   ]
  },
  {
   "cell_type": "code",
   "execution_count": 7,
   "id": "5668b5b5",
   "metadata": {},
   "outputs": [],
   "source": [
    "# custom function for reading gene expression in raw counts format\n",
    "# 读取基因表达数据(格式raw counts)\n",
    "read_count <- function(path=\"03_raw_counts/\",file=\"Avicennia_marina.counts\"){\n",
    "    Count <- read.table(paste0(path,file),head=T,check.names = F,row.names=1)\n",
    "    Count <- Count %>%\n",
    "        dplyr::select(-c(Chr,Start,End,Strand,Length))\n",
    "        Cols <- lapply(colnames(Count),function(x){\n",
    "            unlist(str_split(x,'[-.]'))[3]\n",
    "        }) \n",
    "    colnames(Count) <- unlist(Cols)\n",
    "    return(Count)\n",
    "}"
   ]
  },
  {
   "cell_type": "code",
   "execution_count": 8,
   "id": "453787fb",
   "metadata": {},
   "outputs": [],
   "source": [
    "# custom function for reading gene expression in FPKM format\n",
    "# 读取基因表达数据(格式FPKM)\n",
    "read_fpkm <- function(path=\"04_TPM_FPKM/\",file=\"Athaliana.fpkm\"){\n",
    "    fpkm <- read.table(paste0(path,file),head=T,check.names = F,row.names=1)\n",
    "        Cols <- lapply(colnames(fpkm),function(x){\n",
    "            unlist(str_split(x,'[-.]'))[3]\n",
    "        }) \n",
    "    colnames(fpkm) <- unlist(Cols)\n",
    "    return(fpkm)\n",
    "}"
   ]
  },
  {
   "cell_type": "code",
   "execution_count": 9,
   "id": "8c17344f",
   "metadata": {},
   "outputs": [],
   "source": [
    "Count <- read_count(path=\"03_raw_counts/\",file=\"Avicennia_marina.counts\")\n",
    "fpkm <- read_fpkm(path=\"04_TPM_FPKM//\",file=\"Avicennia_marina.fpkm\")"
   ]
  },
  {
   "cell_type": "code",
   "execution_count": 10,
   "id": "8767d798",
   "metadata": {},
   "outputs": [],
   "source": [
    "fpkm <- fpkm[,c(\"Con_2\",\"Con_3\",\"Con_4\",\"Cd_1\",'Cd_2','Cd_4')]"
   ]
  },
  {
   "cell_type": "code",
   "execution_count": 11,
   "id": "5e98c772",
   "metadata": {},
   "outputs": [],
   "source": [
    "fpkm <- data.frame(gene=rownames(fpkm),avg_fpkm=apply(fpkm,1,mean))"
   ]
  },
  {
   "cell_type": "code",
   "execution_count": 12,
   "id": "948a3355",
   "metadata": {},
   "outputs": [
    {
     "name": "stderr",
     "output_type": "stream",
     "text": [
      "estimating size factors\n",
      "\n",
      "estimating dispersions\n",
      "\n",
      "gene-wise dispersion estimates\n",
      "\n",
      "mean-dispersion relationship\n",
      "\n",
      "final dispersion estimates\n",
      "\n",
      "fitting model and testing\n",
      "\n"
     ]
    }
   ],
   "source": [
    "Am_deg <- DEG(count=Count,\n",
    "    sampleNames= c(\"Con_2\",\"Con_3\",\"Con_4\",\"Cd_1\",'Cd_2','Cd_4'),\n",
    "    comparison=c(\"Cd\"),\n",
    "          rep=3)"
   ]
  },
  {
   "cell_type": "code",
   "execution_count": 13,
   "id": "35ff1fa5",
   "metadata": {},
   "outputs": [],
   "source": [
    "Am_deg <- Am_deg[!is.na(Am_deg$padj),]"
   ]
  },
  {
   "cell_type": "code",
   "execution_count": 14,
   "id": "f2f8014e",
   "metadata": {},
   "outputs": [],
   "source": [
    "# loading genomics sequence features\n",
    "# 读取基因特征矩阵\n",
    "Am <- read.csv(\"期刊/JHM/revise/Avicennia_marina_feature.csv\")\n",
    "colnames(Am)[1] <- 'gene'"
   ]
  },
  {
   "cell_type": "code",
   "execution_count": 15,
   "id": "c0750034",
   "metadata": {},
   "outputs": [],
   "source": [
    "Am2 <- Am %>%\n",
    "    dplyr::filter(gene %in% Am_deg$gene)"
   ]
  },
  {
   "cell_type": "code",
   "execution_count": 16,
   "id": "ca1c8385",
   "metadata": {},
   "outputs": [],
   "source": [
    "Am_DEG <- Am_deg\n",
    "Am_DEG <- Am_DEG %>%\n",
    "    mutate(Organism = \"Avicennia marina\") %>%\n",
    "    dplyr::filter(gene %in% Am2$gene)"
   ]
  },
  {
   "cell_type": "code",
   "execution_count": 17,
   "id": "1b345f75",
   "metadata": {},
   "outputs": [
    {
     "name": "stderr",
     "output_type": "stream",
     "text": [
      "Warning message:\n",
      "\"Data is of class data.frame. Coercing to dgCMatrix.\"\n",
      "Normalizing layer: counts\n",
      "\n",
      "Finding variable features for layer counts\n",
      "\n",
      "Centering and scaling data matrix\n",
      "\n",
      "PC_ 1 \n",
      "Positive:  T.Intron, G.Intron, A.Intron, C.Intron, TT.Intron, AT.Intron, TG.Intron, CT.Intron, GT.Intron, GA.Intron \n",
      "\t   AG.Intron, TA.Intron, TC.Intron, CA.Intron, AA.Intron, AC.Intron, GC.Intron, GG.Intron, CC.Intron, CG.Intron \n",
      "\t   TA.CDS, AT.CDS, AA.CDS, GG.5UTR, TT.CDS, CC.3UTR, CG.5UTR, TG.CDS, GC.3UTR, CG.Down \n",
      "Negative:  G.CDS, C.CDS, T.3UTR, GC.CDS, CG.CDS, GG.CDS, A.Down, T.Up, CC.CDS, T.Down \n",
      "\t   A.3UTR, TC.CDS, A.Up, GT.Down, AC.Up, C.5UTR, C.Up, CA.Up, TG.Down, GT.Up \n",
      "\t   CA.5UTR, TT.3UTR, TC.Up, G.Up, G.Down, AT.3UTR, TG.Up, GA.Down, AC.Down, A.5UTR \n",
      "PC_ 2 \n",
      "Positive:  GC.Down, C.Down, CC.Down, G.Down, GG.Down, GC.Up, GG.Up, G.Up, CT.Down, AG.Down \n",
      "\t   CA.Down, TC.Down, CC.Up, C.Up, CG.Down, GA.Down, C.3UTR, CT.Up, CG.Up, TG.Up \n",
      "\t   G.5UTR, AG.Up, AC.Down, GA.Up, GC.3UTR, TG.5UTR, TC.Up, GG.5UTR, TG.Down, CC.3UTR \n",
      "Negative:  TA.Down, AT.Down, TA.Up, TT.Down, AT.Up, T.Down, AA.Down, A.Down, A.Up, AA.Up \n",
      "\t   TA.3UTR, TT.Up, T.Up, AT.3UTR, T.3UTR, CG.CDS, TT.3UTR, TA.5UTR, A.5UTR, AT.5UTR \n",
      "\t   C.CDS, AA.5UTR, CC.CDS, GC.CDS, AA.3UTR, A.3UTR, GG.CDS, G.CDS, AC.5UTR, TC.CDS \n",
      "PC_ 3 \n",
      "Positive:  GC.Up, G.Up, GG.Up, C.Up, CC.Up, TA.Down, AT.Down, CT.Up, TG.Up, CG.Up \n",
      "\t   AG.Up, TC.Up, GA.Up, AA.Down, CA.Up, TT.Down, GT.Up, A.Down, T.Down, AC.Up \n",
      "\t   G.5UTR, GG.5UTR, TG.5UTR, AG.5UTR, GC.5UTR, GA.5UTR, TA.3UTR, AT.3UTR, GT.5UTR, CT.5UTR \n",
      "Negative:  TA.Up, AT.Up, GC.Down, AA.Up, G.Down, C.Down, A.Up, CC.Down, GG.Down, TT.Up \n",
      "\t   T.Up, CT.Down, AG.Down, TC.Down, GA.Down, CG.Down, CA.Down, TG.Down, AC.Down, TA.5UTR \n",
      "\t   AT.5UTR, GT.Down, C.3UTR, AA.5UTR, A.5UTR, GC.3UTR, G.3UTR, CT.3UTR, CC.3UTR, T.5UTR \n",
      "PC_ 4 \n",
      "Positive:  AT.CDS, TA.CDS, T.CDS, TG.CDS, TG.5UTR, TT.CDS, A.CDS, GT.5UTR, TT.5UTR, T.5UTR \n",
      "\t   AA.CDS, G.5UTR, GG.5UTR, CT.3UTR, TG.3UTR, T.Down, TT.Down, TT.Up, TA.Down, AT.Down \n",
      "\t   GC.3UTR, G.3UTR, T.Up, GA.5UTR, C.3UTR, GA.CDS, GT.CDS, GT.3UTR, GG.3UTR, AG.CDS \n",
      "Negative:  CG.CDS, C.CDS, CC.CDS, GC.CDS, AC.5UTR, CA.5UTR, CC.5UTR, C.5UTR, AC.CDS, CG.Intron \n",
      "\t   AA.3UTR, A.5UTR, CC.Down, C.Down, A.3UTR, AA.5UTR, CA.Down, TC.CDS, GC.Down, AC.Down \n",
      "\t   TA.3UTR, CG.Down, CA.Up, AT.3UTR, AC.Up, GG.CDS, AG.Down, CC.Up, C.Up, GG.Down \n",
      "PC_ 5 \n",
      "Positive:  TA.5UTR, AT.5UTR, A.5UTR, AA.5UTR, T.5UTR, TT.5UTR, TG.Up, G.Up, GG.Up, T.CDS \n",
      "\t   GT.Up, GC.Up, AG.Up, TA.CDS, GA.Up, TT.CDS, CT.Up, AT.3UTR, AT.CDS, TA.3UTR \n",
      "\t   CT.CDS, A.3UTR, C.Up, AA.3UTR, TC.Up, CC.Up, T.3UTR, TC.CDS, TT.3UTR, CG.Up \n",
      "Negative:  GC.5UTR, C.5UTR, CG.5UTR, CC.5UTR, G.5UTR, TC.5UTR, GG.5UTR, CT.5UTR, AG.5UTR, GA.5UTR \n",
      "\t   GT.5UTR, CA.5UTR, AC.5UTR, TG.5UTR, TA.Up, AT.Up, AA.Up, GG.CDS, A.Up, G.3UTR \n",
      "\t   G.CDS, GG.3UTR, CG.3UTR, GC.3UTR, AG.CDS, C.3UTR, GA.CDS, CC.3UTR, GC.CDS, CG.CDS \n",
      "\n",
      "Computing nearest neighbor graph\n",
      "\n",
      "Computing SNN\n",
      "\n"
     ]
    },
    {
     "name": "stdout",
     "output_type": "stream",
     "text": [
      "Modularity Optimizer version 1.3.0 by Ludo Waltman and Nees Jan van Eck\n",
      "\n",
      "Number of nodes: 25527\n",
      "Number of edges: 650309\n",
      "\n",
      "Running Louvain algorithm...\n",
      "Maximum modularity in 10 random starts: 0.7283\n",
      "Number of communities: 11\n",
      "Elapsed time: 5 seconds\n"
     ]
    },
    {
     "name": "stderr",
     "output_type": "stream",
     "text": [
      "Warning message:\n",
      "\"The default method for RunUMAP has changed from calling Python UMAP via reticulate to the R-native UWOT using the cosine metric\n",
      "To use Python UMAP via reticulate, set umap.method to 'umap-learn' and metric to 'correlation'\n",
      "This message will be shown once per session\"\n",
      "14:58:50 UMAP embedding parameters a = 0.9922 b = 1.112\n",
      "\n",
      "14:58:50 Read 25527 rows and found 10 numeric columns\n",
      "\n",
      "14:58:50 Using Annoy for neighbor search, n_neighbors = 30\n",
      "\n",
      "14:58:50 Building Annoy index with metric = cosine, n_trees = 50\n",
      "\n",
      "0%   10   20   30   40   50   60   70   80   90   100%\n",
      "\n",
      "[----|----|----|----|----|----|----|----|----|----|\n",
      "\n",
      "*\n",
      "*\n",
      "*\n",
      "*\n",
      "*\n",
      "*\n",
      "*\n",
      "*\n",
      "*\n",
      "*\n",
      "*\n",
      "*\n",
      "*\n",
      "*\n",
      "*\n",
      "*\n",
      "*\n",
      "*\n",
      "*\n",
      "*\n",
      "*\n",
      "*\n",
      "*\n",
      "*\n",
      "*\n",
      "*\n",
      "*\n",
      "*\n",
      "*\n",
      "*\n",
      "*\n",
      "*\n",
      "*\n",
      "*\n",
      "*\n",
      "*\n",
      "*\n",
      "*\n",
      "*\n",
      "*\n",
      "*\n",
      "*\n",
      "*\n",
      "*\n",
      "*\n",
      "*\n",
      "*\n",
      "*\n",
      "*\n",
      "*\n",
      "|\n",
      "\n",
      "14:58:53 Writing NN index file to temp file C:\\Users\\jasonxu\\AppData\\Local\\Temp\\Rtmpu2o3YY\\file884843e7367b\n",
      "\n",
      "14:58:53 Searching Annoy index using 1 thread, search_k = 3000\n",
      "\n",
      "14:59:02 Annoy recall = 100%\n",
      "\n",
      "14:59:02 Commencing smooth kNN distance calibration using 1 thread\n",
      " with target n_neighbors = 30\n",
      "\n",
      "14:59:04 Found 2 connected components, \n",
      "falling back to 'spca' initialization with init_sdev = 1\n",
      "\n",
      "14:59:04 Using 'irlba' for PCA\n",
      "\n",
      "14:59:04 PCA: 2 components explained 49.58% variance\n",
      "\n",
      "14:59:04 Scaling init to sdev = 1\n",
      "\n",
      "14:59:04 Commencing optimization for 200 epochs, with 954498 positive edges\n",
      "\n",
      "14:59:04 Using rng type: pcg\n",
      "\n",
      "14:59:26 Optimization finished\n",
      "\n"
     ]
    }
   ],
   "source": [
    "rownames(Am2) <- Am2$gene\n",
    "Am2 <- Am2[,-1]\n",
    "Am2 <- data.frame(t(Am2))\n",
    "objs <- CreateSeuratObject(counts = Am2, project = \"all\", meta=Am_deg,min.cells = 1, min.features = 1)\n",
    "objs <- NormalizeData(objs, normalization.method = \"LogNormalize\", scale.factor = 30)\n",
    "objs <- FindVariableFeatures(objs, selection.method = \"vst\", nfeatures = 3000)\n",
    "all.genes <- rownames(objs)\n",
    "objs <- ScaleData(objs, features = all.genes)\n",
    "objs <- RunPCA(objs,npcs =10, features = VariableFeatures(object = objs))\n",
    "objs <- FindNeighbors(objs, dims = 1:10)\n",
    "objs <- FindClusters(objs, resolution = 1)\n",
    "objs <- RunUMAP(objs, dims = 1:10)"
   ]
  },
  {
   "cell_type": "raw",
   "id": "234dfab3",
   "metadata": {},
   "source": [
    "## not run, this step including negative samples sampling and other machine learning models training\n",
    "# 这一步包含使用先聚类后对负样本进行采集，使用其他机器学习模型进行模型训练\n",
    "for(ML in c('rpart','ada','lda','knn','glm','svmRadial','naive_bayes','xgbTree','treebag')){\n",
    "    print(ML)\n",
    "    TBL <- NULL\n",
    "    for(lfc in c(0.5,1,1.5,2)){\n",
    "        print(lfc)\n",
    "        RG <- Am_deg %>%\n",
    "                dplyr::filter(abs(log2FoldChange) > lfc & padj < 0.05) %>%\n",
    "                dplyr::select(gene) %>%\n",
    "                mutate(class=1)\n",
    "        NRG <- Am_deg %>%\n",
    "                dplyr::filter(abs(log2FoldChange) < 0.5) %>%\n",
    "                dplyr::select(gene) %>%\n",
    "                mutate(class=0)\n",
    "        genes <- rbind(RG,NRG)\n",
    "\n",
    "        meta <- objs@meta.data %>%\n",
    "                    inner_join(genes)\n",
    "        tbl <- table(meta[,c(\"seurat_clusters\",\"class\")])\n",
    "        tbl <- tbl %>%\n",
    "            data.frame() %>%\n",
    "            mutate(class=ifelse(class=='0','NRG','RG')) %>%\n",
    "            spread(.,class,Freq) %>%\n",
    "            arrange(RG) %>%\n",
    "            mutate(log2FC=lfc)\n",
    "        TBL <- rbind(TBL,tbl)\n",
    "        Number <- 0\n",
    "        inx <- c()\n",
    "        for(i in 1:nrow(tbl)){\n",
    "            print(tbl$seurat_clusters[i])\n",
    "            re <- tbl$NRG[i]\n",
    "            Number <- Number + re\n",
    "            if(Number < nrow(RG)){\n",
    "                inx <- c(inx,i)\n",
    "            }else{\n",
    "                inx <- c(inx,i)\n",
    "                break\n",
    "            }\n",
    "        }\n",
    "        need <- meta %>%\n",
    "            dplyr::filter(seurat_clusters %in% tbl$seurat_clusters[inx]) %>%\n",
    "            dplyr::filter(class==0) %>%\n",
    "            dplyr::select(gene,class)\n",
    "        set.seed(123)\n",
    "        inx <- sample(1:nrow(need),nrow(RG))\n",
    "        NRG <- need[inx,]\n",
    "        genes <- rbind(RG,NRG)\n",
    "        new_data <-  Am_deg %>%\n",
    "            inner_join(genes) %>%\n",
    "            dplyr::select(gene,class) %>%\n",
    "            inner_join(fpkm) %>%\n",
    "            dplyr::select(gene,avg_fpkm,class)\n",
    "        data <- new_data %>%\n",
    "            inner_join(Am)\n",
    "        rownames(data) <- data$gene\n",
    "        data <- data %>%\n",
    "                    mutate(class=ifelse(class==0,'NRG','RG')) %>%\n",
    "                    dplyr::select(-c(avg_fpkm,gene))\n",
    "        ctrl <- trainControl(method = \"cv\",number=10)\n",
    "        ML_feature <- as.integer(sqrt(ncol(data)-1))\n",
    "        grid_search = expand.grid(.mtry=ML_feature)\n",
    "        set.seed(123)\n",
    "        inx <- sample(1:nrow(data),0.75*nrow(data))\n",
    "        train <- data[inx,]\n",
    "        test <- data[-inx,]\n",
    "        set.seed(123)\n",
    "        model <- train(class ~ ., data = train,\n",
    "                    method = ML,\n",
    "                    trControl = ctrl)\n",
    "        save(train,test,model,file=paste0(\"model/\",ML,\"/\",\"clustering\",\"_log2FC_\",lfc,\".RData\"))\n",
    "    }\n",
    "}"
   ]
  },
  {
   "cell_type": "code",
   "execution_count": null,
   "id": "5ca3a7f1",
   "metadata": {},
   "outputs": [],
   "source": []
  },
  {
   "cell_type": "code",
   "execution_count": 18,
   "id": "abe8e5cc",
   "metadata": {},
   "outputs": [
    {
     "name": "stdout",
     "output_type": "stream",
     "text": [
      "[1] \"rf\"\n",
      "[1] \"model/rf/clustering_log2FC_0.5.RData\"\n"
     ]
    },
    {
     "name": "stderr",
     "output_type": "stream",
     "text": [
      "Setting levels: control = NRG, case = RG\n",
      "\n",
      "Setting direction: controls < cases\n",
      "\n"
     ]
    },
    {
     "name": "stdout",
     "output_type": "stream",
     "text": [
      "[1] \"AUC-ROC: 0.851\"\n",
      "[1] \"model/rf/clustering_log2FC_1.RData\"\n"
     ]
    },
    {
     "name": "stderr",
     "output_type": "stream",
     "text": [
      "Setting levels: control = NRG, case = RG\n",
      "\n",
      "Setting direction: controls < cases\n",
      "\n"
     ]
    },
    {
     "name": "stdout",
     "output_type": "stream",
     "text": [
      "[1] \"AUC-ROC: 0.971\"\n",
      "[1] \"model/rf/clustering_log2FC_1.5.RData\"\n"
     ]
    },
    {
     "name": "stderr",
     "output_type": "stream",
     "text": [
      "Setting levels: control = NRG, case = RG\n",
      "\n",
      "Setting direction: controls < cases\n",
      "\n"
     ]
    },
    {
     "name": "stdout",
     "output_type": "stream",
     "text": [
      "[1] \"AUC-ROC: 0.989\"\n",
      "[1] \"model/rf/clustering_log2FC_2.RData\"\n"
     ]
    },
    {
     "name": "stderr",
     "output_type": "stream",
     "text": [
      "Setting levels: control = NRG, case = RG\n",
      "\n",
      "Setting direction: controls < cases\n",
      "\n"
     ]
    },
    {
     "name": "stdout",
     "output_type": "stream",
     "text": [
      "[1] \"AUC-ROC: 0.968\"\n",
      "[1] \"rpart\"\n",
      "[1] \"model/rpart/clustering_log2FC_0.5.RData\"\n"
     ]
    },
    {
     "name": "stderr",
     "output_type": "stream",
     "text": [
      "Setting levels: control = NRG, case = RG\n",
      "\n",
      "Setting direction: controls < cases\n",
      "\n"
     ]
    },
    {
     "name": "stdout",
     "output_type": "stream",
     "text": [
      "[1] \"AUC-ROC: 0.718\"\n",
      "[1] \"model/rpart/clustering_log2FC_1.RData\"\n"
     ]
    },
    {
     "name": "stderr",
     "output_type": "stream",
     "text": [
      "Setting levels: control = NRG, case = RG\n",
      "\n",
      "Setting direction: controls < cases\n",
      "\n"
     ]
    },
    {
     "name": "stdout",
     "output_type": "stream",
     "text": [
      "[1] \"AUC-ROC: 0.867\"\n",
      "[1] \"model/rpart/clustering_log2FC_1.5.RData\"\n"
     ]
    },
    {
     "name": "stderr",
     "output_type": "stream",
     "text": [
      "Setting levels: control = NRG, case = RG\n",
      "\n",
      "Setting direction: controls < cases\n",
      "\n"
     ]
    },
    {
     "name": "stdout",
     "output_type": "stream",
     "text": [
      "[1] \"AUC-ROC: 0.873\"\n",
      "[1] \"model/rpart/clustering_log2FC_2.RData\"\n"
     ]
    },
    {
     "name": "stderr",
     "output_type": "stream",
     "text": [
      "Setting levels: control = NRG, case = RG\n",
      "\n",
      "Setting direction: controls < cases\n",
      "\n"
     ]
    },
    {
     "name": "stdout",
     "output_type": "stream",
     "text": [
      "[1] \"AUC-ROC: 0.861\"\n",
      "[1] \"ada\"\n",
      "[1] \"model/ada/clustering_log2FC_0.5.RData\"\n"
     ]
    },
    {
     "name": "stderr",
     "output_type": "stream",
     "text": [
      "Setting levels: control = NRG, case = RG\n",
      "\n",
      "Setting direction: controls < cases\n",
      "\n"
     ]
    },
    {
     "name": "stdout",
     "output_type": "stream",
     "text": [
      "[1] \"AUC-ROC: 0.825\"\n",
      "[1] \"model/ada/clustering_log2FC_1.RData\"\n"
     ]
    },
    {
     "name": "stderr",
     "output_type": "stream",
     "text": [
      "Setting levels: control = NRG, case = RG\n",
      "\n",
      "Setting direction: controls < cases\n",
      "\n"
     ]
    },
    {
     "name": "stdout",
     "output_type": "stream",
     "text": [
      "[1] \"AUC-ROC: 0.967\"\n",
      "[1] \"model/ada/clustering_log2FC_1.5.RData\"\n"
     ]
    },
    {
     "name": "stderr",
     "output_type": "stream",
     "text": [
      "Setting levels: control = NRG, case = RG\n",
      "\n",
      "Setting direction: controls < cases\n",
      "\n"
     ]
    },
    {
     "name": "stdout",
     "output_type": "stream",
     "text": [
      "[1] \"AUC-ROC: 0.993\"\n",
      "[1] \"model/ada/clustering_log2FC_2.RData\"\n"
     ]
    },
    {
     "name": "stderr",
     "output_type": "stream",
     "text": [
      "Setting levels: control = NRG, case = RG\n",
      "\n",
      "Setting direction: controls < cases\n",
      "\n"
     ]
    },
    {
     "name": "stdout",
     "output_type": "stream",
     "text": [
      "[1] \"AUC-ROC: 0.971\"\n",
      "[1] \"lda\"\n",
      "[1] \"model/lda/clustering_log2FC_0.5.RData\"\n"
     ]
    },
    {
     "name": "stderr",
     "output_type": "stream",
     "text": [
      "Setting levels: control = NRG, case = RG\n",
      "\n",
      "Setting direction: controls < cases\n",
      "\n"
     ]
    },
    {
     "name": "stdout",
     "output_type": "stream",
     "text": [
      "[1] \"AUC-ROC: 0.805\"\n",
      "[1] \"model/lda/clustering_log2FC_1.RData\"\n"
     ]
    },
    {
     "name": "stderr",
     "output_type": "stream",
     "text": [
      "Setting levels: control = NRG, case = RG\n",
      "\n",
      "Setting direction: controls < cases\n",
      "\n"
     ]
    },
    {
     "name": "stdout",
     "output_type": "stream",
     "text": [
      "[1] \"AUC-ROC: 0.961\"\n",
      "[1] \"model/lda/clustering_log2FC_1.5.RData\"\n"
     ]
    },
    {
     "name": "stderr",
     "output_type": "stream",
     "text": [
      "Setting levels: control = NRG, case = RG\n",
      "\n",
      "Setting direction: controls < cases\n",
      "\n"
     ]
    },
    {
     "name": "stdout",
     "output_type": "stream",
     "text": [
      "[1] \"AUC-ROC: 0.978\"\n",
      "[1] \"model/lda/clustering_log2FC_2.RData\"\n"
     ]
    },
    {
     "name": "stderr",
     "output_type": "stream",
     "text": [
      "Setting levels: control = NRG, case = RG\n",
      "\n",
      "Setting direction: controls < cases\n",
      "\n"
     ]
    },
    {
     "name": "stdout",
     "output_type": "stream",
     "text": [
      "[1] \"AUC-ROC: 0.957\"\n",
      "[1] \"knn\"\n",
      "[1] \"model/knn/clustering_log2FC_0.5.RData\"\n"
     ]
    },
    {
     "name": "stderr",
     "output_type": "stream",
     "text": [
      "Setting levels: control = NRG, case = RG\n",
      "\n",
      "Setting direction: controls < cases\n",
      "\n"
     ]
    },
    {
     "name": "stdout",
     "output_type": "stream",
     "text": [
      "[1] \"AUC-ROC: 0.832\"\n",
      "[1] \"model/knn/clustering_log2FC_1.RData\"\n"
     ]
    },
    {
     "name": "stderr",
     "output_type": "stream",
     "text": [
      "Setting levels: control = NRG, case = RG\n",
      "\n",
      "Setting direction: controls < cases\n",
      "\n"
     ]
    },
    {
     "name": "stdout",
     "output_type": "stream",
     "text": [
      "[1] \"AUC-ROC: 0.954\"\n",
      "[1] \"model/knn/clustering_log2FC_1.5.RData\"\n"
     ]
    },
    {
     "name": "stderr",
     "output_type": "stream",
     "text": [
      "Setting levels: control = NRG, case = RG\n",
      "\n",
      "Setting direction: controls < cases\n",
      "\n"
     ]
    },
    {
     "name": "stdout",
     "output_type": "stream",
     "text": [
      "[1] \"AUC-ROC: 0.969\"\n",
      "[1] \"model/knn/clustering_log2FC_2.RData\"\n"
     ]
    },
    {
     "name": "stderr",
     "output_type": "stream",
     "text": [
      "Setting levels: control = NRG, case = RG\n",
      "\n",
      "Setting direction: controls < cases\n",
      "\n"
     ]
    },
    {
     "name": "stdout",
     "output_type": "stream",
     "text": [
      "[1] \"AUC-ROC: 0.955\"\n",
      "[1] \"glm\"\n",
      "[1] \"model/glm/clustering_log2FC_0.5.RData\"\n"
     ]
    },
    {
     "name": "stderr",
     "output_type": "stream",
     "text": [
      "Setting levels: control = NRG, case = RG\n",
      "\n",
      "Setting direction: controls < cases\n",
      "\n"
     ]
    },
    {
     "name": "stdout",
     "output_type": "stream",
     "text": [
      "[1] \"AUC-ROC: 0.805\"\n",
      "[1] \"model/glm/clustering_log2FC_1.RData\"\n"
     ]
    },
    {
     "name": "stderr",
     "output_type": "stream",
     "text": [
      "Warning message in predict.lm(object, newdata, se.fit, scale = 1, type = if (type == :\n",
      "\"prediction from rank-deficient fit; attr(*, \"non-estim\") has doubtful cases\"\n",
      "Setting levels: control = NRG, case = RG\n",
      "\n",
      "Setting direction: controls < cases\n",
      "\n"
     ]
    },
    {
     "name": "stdout",
     "output_type": "stream",
     "text": [
      "[1] \"AUC-ROC: 0.964\"\n",
      "[1] \"model/glm/clustering_log2FC_1.5.RData\"\n"
     ]
    },
    {
     "name": "stderr",
     "output_type": "stream",
     "text": [
      "Setting levels: control = NRG, case = RG\n",
      "\n",
      "Setting direction: controls < cases\n",
      "\n"
     ]
    },
    {
     "name": "stdout",
     "output_type": "stream",
     "text": [
      "[1] \"AUC-ROC: 0.975\"\n",
      "[1] \"model/glm/clustering_log2FC_2.RData\"\n"
     ]
    },
    {
     "name": "stderr",
     "output_type": "stream",
     "text": [
      "Setting levels: control = NRG, case = RG\n",
      "\n",
      "Setting direction: controls < cases\n",
      "\n"
     ]
    },
    {
     "name": "stdout",
     "output_type": "stream",
     "text": [
      "[1] \"AUC-ROC: 0.891\"\n",
      "[1] \"svmRadial\"\n",
      "[1] \"model/svmRadial/clustering_log2FC_0.5.RData\"\n"
     ]
    },
    {
     "name": "stderr",
     "output_type": "stream",
     "text": [
      "Setting levels: control = NRG, case = RG\n",
      "\n",
      "Setting direction: controls < cases\n",
      "\n"
     ]
    },
    {
     "name": "stdout",
     "output_type": "stream",
     "text": [
      "[1] \"AUC-ROC: 0.795\"\n",
      "[1] \"model/svmRadial/clustering_log2FC_1.RData\"\n"
     ]
    },
    {
     "name": "stderr",
     "output_type": "stream",
     "text": [
      "Setting levels: control = NRG, case = RG\n",
      "\n",
      "Setting direction: controls < cases\n",
      "\n"
     ]
    },
    {
     "name": "stdout",
     "output_type": "stream",
     "text": [
      "[1] \"AUC-ROC: 0.942\"\n",
      "[1] \"model/svmRadial/clustering_log2FC_1.5.RData\"\n"
     ]
    },
    {
     "name": "stderr",
     "output_type": "stream",
     "text": [
      "Setting levels: control = NRG, case = RG\n",
      "\n",
      "Setting direction: controls < cases\n",
      "\n"
     ]
    },
    {
     "name": "stdout",
     "output_type": "stream",
     "text": [
      "[1] \"AUC-ROC: 0.966\"\n",
      "[1] \"model/svmRadial/clustering_log2FC_2.RData\"\n"
     ]
    },
    {
     "name": "stderr",
     "output_type": "stream",
     "text": [
      "Setting levels: control = NRG, case = RG\n",
      "\n",
      "Setting direction: controls < cases\n",
      "\n"
     ]
    },
    {
     "name": "stdout",
     "output_type": "stream",
     "text": [
      "[1] \"AUC-ROC: 0.950\"\n",
      "[1] \"naive_bayes\"\n",
      "[1] \"model/naive_bayes/clustering_log2FC_0.5.RData\"\n"
     ]
    },
    {
     "name": "stderr",
     "output_type": "stream",
     "text": [
      "Setting levels: control = NRG, case = RG\n",
      "\n",
      "Setting direction: controls < cases\n",
      "\n"
     ]
    },
    {
     "name": "stdout",
     "output_type": "stream",
     "text": [
      "[1] \"AUC-ROC: 0.804\"\n",
      "[1] \"model/naive_bayes/clustering_log2FC_1.RData\"\n"
     ]
    },
    {
     "name": "stderr",
     "output_type": "stream",
     "text": [
      "Setting levels: control = NRG, case = RG\n",
      "\n",
      "Setting direction: controls < cases\n",
      "\n"
     ]
    },
    {
     "name": "stdout",
     "output_type": "stream",
     "text": [
      "[1] \"AUC-ROC: 0.962\"\n",
      "[1] \"model/naive_bayes/clustering_log2FC_1.5.RData\"\n"
     ]
    },
    {
     "name": "stderr",
     "output_type": "stream",
     "text": [
      "Setting levels: control = NRG, case = RG\n",
      "\n",
      "Setting direction: controls < cases\n",
      "\n"
     ]
    },
    {
     "name": "stdout",
     "output_type": "stream",
     "text": [
      "[1] \"AUC-ROC: 0.982\"\n",
      "[1] \"model/naive_bayes/clustering_log2FC_2.RData\"\n"
     ]
    },
    {
     "name": "stderr",
     "output_type": "stream",
     "text": [
      "Setting levels: control = NRG, case = RG\n",
      "\n",
      "Setting direction: controls < cases\n",
      "\n"
     ]
    },
    {
     "name": "stdout",
     "output_type": "stream",
     "text": [
      "[1] \"AUC-ROC: 0.978\"\n",
      "[1] \"xgbTree\"\n",
      "[1] \"model/xgbTree/clustering_log2FC_0.5.RData\"\n"
     ]
    },
    {
     "name": "stderr",
     "output_type": "stream",
     "text": [
      "Setting levels: control = NRG, case = RG\n",
      "\n",
      "Setting direction: controls < cases\n",
      "\n"
     ]
    },
    {
     "name": "stdout",
     "output_type": "stream",
     "text": [
      "[1] \"AUC-ROC: 0.836\"\n",
      "[1] \"model/xgbTree/clustering_log2FC_1.RData\"\n"
     ]
    },
    {
     "name": "stderr",
     "output_type": "stream",
     "text": [
      "Setting levels: control = NRG, case = RG\n",
      "\n",
      "Setting direction: controls < cases\n",
      "\n"
     ]
    },
    {
     "name": "stdout",
     "output_type": "stream",
     "text": [
      "[1] \"AUC-ROC: 0.966\"\n",
      "[1] \"model/xgbTree/clustering_log2FC_1.5.RData\"\n"
     ]
    },
    {
     "name": "stderr",
     "output_type": "stream",
     "text": [
      "Setting levels: control = NRG, case = RG\n",
      "\n",
      "Setting direction: controls < cases\n",
      "\n"
     ]
    },
    {
     "name": "stdout",
     "output_type": "stream",
     "text": [
      "[1] \"AUC-ROC: 0.992\"\n",
      "[1] \"model/xgbTree/clustering_log2FC_2.RData\"\n"
     ]
    },
    {
     "name": "stderr",
     "output_type": "stream",
     "text": [
      "Setting levels: control = NRG, case = RG\n",
      "\n",
      "Setting direction: controls < cases\n",
      "\n"
     ]
    },
    {
     "name": "stdout",
     "output_type": "stream",
     "text": [
      "[1] \"AUC-ROC: 0.972\"\n",
      "[1] \"treebag\"\n",
      "[1] \"model/treebag/clustering_log2FC_0.5.RData\"\n"
     ]
    },
    {
     "name": "stderr",
     "output_type": "stream",
     "text": [
      "Setting levels: control = NRG, case = RG\n",
      "\n",
      "Setting direction: controls < cases\n",
      "\n"
     ]
    },
    {
     "name": "stdout",
     "output_type": "stream",
     "text": [
      "[1] \"AUC-ROC: 0.833\"\n",
      "[1] \"model/treebag/clustering_log2FC_1.RData\"\n"
     ]
    },
    {
     "name": "stderr",
     "output_type": "stream",
     "text": [
      "Setting levels: control = NRG, case = RG\n",
      "\n",
      "Setting direction: controls < cases\n",
      "\n"
     ]
    },
    {
     "name": "stdout",
     "output_type": "stream",
     "text": [
      "[1] \"AUC-ROC: 0.965\"\n",
      "[1] \"model/treebag/clustering_log2FC_1.5.RData\"\n"
     ]
    },
    {
     "name": "stderr",
     "output_type": "stream",
     "text": [
      "Setting levels: control = NRG, case = RG\n",
      "\n",
      "Setting direction: controls < cases\n",
      "\n"
     ]
    },
    {
     "name": "stdout",
     "output_type": "stream",
     "text": [
      "[1] \"AUC-ROC: 0.983\"\n",
      "[1] \"model/treebag/clustering_log2FC_2.RData\"\n"
     ]
    },
    {
     "name": "stderr",
     "output_type": "stream",
     "text": [
      "Setting levels: control = NRG, case = RG\n",
      "\n",
      "Setting direction: controls < cases\n",
      "\n"
     ]
    },
    {
     "name": "stdout",
     "output_type": "stream",
     "text": [
      "[1] \"AUC-ROC: 0.966\"\n"
     ]
    }
   ],
   "source": [
    "Results <- NULL\n",
    "evaluation <- NULL\n",
    "for(ML in c('rf','rpart','ada','lda','knn','glm','svmRadial','naive_bayes','xgbTree','treebag')){\n",
    "    print(ML)\n",
    "    roclist <- NULL\n",
    "    for(type in c('clustering')){\n",
    "        AUC <- c()\n",
    "        for(lfc in c(0.5,1,1.5,2)){\n",
    "            f <- paste0(\"model/\",ML,\"/\",type,\"_log2FC_\",lfc,\".RData\")\n",
    "            print(f)\n",
    "            load(f)\n",
    "            data <- rbind(train,test)\n",
    "            if(ML %in% c(\"svmRadial\")){\n",
    "                rf_pred <- predict(model,test)\n",
    "                rf_pred <- as.numeric(rf_pred)-1\n",
    "            }else{\n",
    "                rf_pred <- predict(model,test,type=\"prob\")\n",
    "                rf_pred <- rf_pred[,2]\n",
    "            }\n",
    "            RE <- metrics2(rf_pred,test$class)\n",
    "            RE$model <- ML\n",
    "            RE$log2FC <- lfc\n",
    "            evaluation <- rbind(evaluation,RE)\n",
    "            predob <- prediction(rf_pred, test$class)\n",
    "            perf <- performance(predob, 'tpr','fpr')\n",
    "            perf.auc<- performance(predob, measure = 'auc', x.measure = 'cutoff')\n",
    "            re_auc <- data.frame(Model=ML,FC=lfc,`AUC-ROC`=unlist(perf.auc@y.values))\n",
    "            Auc <- paste0(\"AUC-ROC: \",sprintf(\"%.3f\",unlist(perf.auc@y.values)))\n",
    "            print(Auc)\n",
    "            Results <- rbind(Results,re_auc)\n",
    "            AUC <- c(AUC,Auc)\n",
    "            re <- data.frame(x = attributes(perf)$x.values[[1]],\n",
    "                             y = attributes(perf)$y.values[[1]],\n",
    "                            type = str_to_title(type),\n",
    "                            lfc)\n",
    "            roclist <- rbind(roclist,re)\n",
    "        }\n",
    "        AUC <- paste(AUC,collapse = '\\n')\n",
    "    }    \n",
    "}"
   ]
  },
  {
   "cell_type": "markdown",
   "id": "e9be3180",
   "metadata": {},
   "source": [
    "## Figure2C"
   ]
  },
  {
   "cell_type": "code",
   "execution_count": 19,
   "id": "4928873e",
   "metadata": {},
   "outputs": [
    {
     "data": {
      "image/png": "[encoded data removed]",
      "text/plain": [
       "plot without title"
      ]
     },
     "metadata": {
      "image/png": {
       "height": 360,
       "width": 360
      }
     },
     "output_type": "display_data"
    }
   ],
   "source": [
    "options(repr.plot.width=6, repr.plot.height=6)\n",
    "Figure2C <- Results %>%\n",
    "    group_by(Model) %>%\n",
    "    summarise(ROC=mean(AUC.ROC),se=std.error(AUC.ROC)) %>%\n",
    "    arrange(ROC) %>%\n",
    "    mutate(Model=factor(Model,levels=c('rpart','glm','svmRadial','lda','knn','naive_bayes','treebag','ada','xgbTree','rf'))) %>%\n",
    "    mutate(Model=factor(Model,labels=c('rpart','LR','SVM','LDA','KNN','NB','BaggingClassifier','AdaBoost','XGBoost','RF'))) %>%\n",
    "    ggplot(aes(Model,ROC,fill=Model))+\n",
    "                geom_bar(stat='identity',width=0.6,alpha=0.8)+\n",
    "                geom_errorbar(aes(ymin = ROC - se, ymax = ROC + se),position = position_dodge(0.9), width = .2)+\n",
    "                theme_bw()+\n",
    "                theme(axis.text = element_text(size=8,color='black'),\n",
    "                      axis.text.x = element_text(size=8,color='black',angle=45,hjust=1),\n",
    "                      axis.title=element_text(size=8,color='black'),\n",
    "                     legend.position='none',\n",
    "                     strip.text = element_text(size = 8, colour = \"black\"))+\n",
    "scale_fill_d3()\n",
    "Figure2C"
   ]
  },
  {
   "cell_type": "code",
   "execution_count": null,
   "id": "15f57c08",
   "metadata": {},
   "outputs": [],
   "source": []
  }
 ],
 "metadata": {
  "kernelspec": {
   "display_name": "R",
   "language": "R",
   "name": "ir"
  },
  "language_info": {
   "codemirror_mode": "r",
   "file_extension": ".r",
   "mimetype": "text/x-r-source",
   "name": "R",
   "pygments_lexer": "r",
   "version": "4.4.2"
  }
 },
 "nbformat": 4,
 "nbformat_minor": 5
}
