{
 "cells": [
  {
   "cell_type": "code",
   "execution_count": 2,
   "id": "dd01952d",
   "metadata": {},
   "outputs": [],
   "source": [
    "# load required R packages\n",
    "# 载入需要的R包\n",
    "library(tidyverse)\n",
    "library(DESeq2)\n",
    "library(BioSeqUtils)\n",
    "library(caret)\n",
    "library(randomForest)\n",
    "library(ROCR) \n",
    "library(pROC)\n",
    "library(ggplot2)\n",
    "library(PRROC)\n",
    "library(tidymodels)\n",
    "library(Seurat)\n",
    "library(patchwork)\n",
    "library(ggsci)\n",
    "library(kmer)\n",
    "library(readxl)\n",
    "library(Biostrings)\n",
    "library(ape)\n",
    "library(pheatmap)\n",
    "library(ggplotify)\n",
    "library(GenomicFeatures)\n",
    "library(parallel)\n",
    "library(venn)\n",
    "library(universalmotif)\n",
    "library(data.table)\n",
    "library(clusterProfiler)"
   ]
  },
  {
   "cell_type": "code",
   "execution_count": 3,
   "id": "32ffa6d9",
   "metadata": {},
   "outputs": [],
   "source": [
    "#setting working directory\n",
    "# 设置工作路径\n",
    "setwd(\"D:\\\\project\\\\白骨壤Cd\")"
   ]
  },
  {
   "cell_type": "code",
   "execution_count": null,
   "id": "bece7a8a",
   "metadata": {},
   "outputs": [],
   "source": []
  },
  {
   "cell_type": "code",
   "execution_count": 4,
   "id": "ca6f00e7",
   "metadata": {},
   "outputs": [],
   "source": [
    "theme_cleveland <- function (rotate = TRUE) \n",
    "{\n",
    "    if (rotate) {\n",
    "        theme(panel.grid.major.x = element_blank(), panel.grid.minor.x = element_blank(), \n",
    "            panel.grid.major.y = element_line(colour = \"grey70\", \n",
    "                linetype = \"dashed\"))\n",
    "    }\n",
    "}"
   ]
  },
  {
   "cell_type": "code",
   "execution_count": 5,
   "id": "c11d109f",
   "metadata": {},
   "outputs": [],
   "source": [
    "# custom function for differentially expressed genes analysis using DESeq2 R package\n",
    "# 构建函数，使用DESeq2进行差异表达分析\n",
    "DEG <- function(count,sampleNames,comparison,rep=3){\n",
    "    data <- count[,sampleNames]\n",
    "    countData <- as.matrix(data)\n",
    "    condition <- c(rep(\"control\",rep),rep(\"treatment\",rep))\n",
    "    database <- data.frame(name=sampleNames, condition=condition)\n",
    "    database$condition <- factor(database$condition)\n",
    "    rownames(database) <- sampleNames\n",
    "    dds <- DESeqDataSetFromMatrix(countData, colData=database, design= ~ condition)\n",
    "    dds <- dds[ rowSums(counts(dds)) > 10, ]\n",
    "    dds <- DESeq(dds)\n",
    "    res <- results(dds,contrast=c(\"condition\", \"treatment\", \"control\"))\n",
    "    res <- res %>%\n",
    "        as.data.frame() %>%\n",
    "        mutate(comparison=comparison,gene=rownames(res))\n",
    "    return(res)\n",
    "}"
   ]
  },
  {
   "cell_type": "code",
   "execution_count": 6,
   "id": "fcfe4038",
   "metadata": {},
   "outputs": [],
   "source": [
    "# custom function for reading gene expression in raw counts format\n",
    "# 读取基因表达数据(格式raw counts)\n",
    "read_count <- function(path=\"03_raw_counts/\",file=\"Avicennia_marina.counts\"){\n",
    "    Count <- read.table(paste0(path,file),head=T,check.names = F,row.names=1)\n",
    "    Count <- Count %>%\n",
    "        dplyr::select(-c(Chr,Start,End,Strand,Length))\n",
    "    if(file %in% c('Athaliana.counts','Ntab.counts','HvulgareMorex.counts')){\n",
    "        Cols <- lapply(colnames(Count),function(x){\n",
    "            unlist(str_split(x,'[/.]'))[2]\n",
    "        })        \n",
    "    }else{\n",
    "        Cols <- lapply(colnames(Count),function(x){\n",
    "            unlist(str_split(x,'[-.]'))[3]\n",
    "        }) \n",
    "    }\n",
    "    colnames(Count) <- unlist(Cols)\n",
    "    return(Count)\n",
    "}"
   ]
  },
  {
   "cell_type": "code",
   "execution_count": 7,
   "id": "8e7c4dae",
   "metadata": {},
   "outputs": [],
   "source": [
    "load(\"Cis/Am_DEG.RData\")\n",
    "load(\"Cis/At_DEG.RData\")\n",
    "load(\"Cis/HvulgareMorex_DEG.RData\")\n",
    "load(\"Cis/Ntab_DEG.RData\")"
   ]
  },
  {
   "cell_type": "code",
   "execution_count": 8,
   "id": "10dc0b8d",
   "metadata": {},
   "outputs": [],
   "source": [
    "DEGs <- rbind(Am_DEG,At_DEG,HvulgareMorex_DEG,Ntab_DEG)"
   ]
  },
  {
   "cell_type": "code",
   "execution_count": 9,
   "id": "c9cdadce",
   "metadata": {},
   "outputs": [],
   "source": [
    "fdr <- 0.05\n",
    "log2FC <- 1\n",
    "DEGs$group <- case_when(\n",
    "        DEGs$log2FoldChange > log2FC & DEGs$padj < fdr ~ \"Up\",\n",
    "        DEGs$log2FoldChange < -log2FC & DEGs$padj < fdr ~ \"Down\",\n",
    "        TRUE ~ 'None'\n",
    ")"
   ]
  },
  {
   "cell_type": "code",
   "execution_count": 10,
   "id": "1a40d88c",
   "metadata": {},
   "outputs": [],
   "source": [
    "DEGs$group[abs(DEGs$log2FoldChange)<0.5] <- \"NRG\""
   ]
  },
  {
   "cell_type": "code",
   "execution_count": 11,
   "id": "3e52be07",
   "metadata": {},
   "outputs": [
    {
     "data": {
      "text/plain": [
       "\n",
       " Down  None   NRG    Up \n",
       " 5378 26008 67750  6467 "
      ]
     },
     "metadata": {},
     "output_type": "display_data"
    }
   ],
   "source": [
    "table(DEGs$group)"
   ]
  },
  {
   "cell_type": "code",
   "execution_count": 12,
   "id": "d9f0da6f",
   "metadata": {},
   "outputs": [
    {
     "data": {
      "text/plain": [
       "      Organism\n",
       "group  Arabidopsis thaliana Avicennia marina Hvulgare Morex Nicotiana tabacum\n",
       "  Down                  330             1530           2327              1191\n",
       "  None                 3358             6176           7526              8948\n",
       "  NRG                 16174            16931           9905             24740\n",
       "  Up                    491              890           2028              3058"
      ]
     },
     "metadata": {},
     "output_type": "display_data"
    }
   ],
   "source": [
    "table(DEGs[,c('group','Organism')])"
   ]
  },
  {
   "cell_type": "code",
   "execution_count": null,
   "id": "f1b24655",
   "metadata": {},
   "outputs": [],
   "source": [
    "#save(DEGs,file=\"Cis/fourSpecies_DEG.RData\")"
   ]
  },
  {
   "cell_type": "raw",
   "id": "e316f202",
   "metadata": {},
   "source": [
    "awk '{if($3~/^gene$/)print}' Athaliana_167_TAIR10.gene.gff3 > At_cis.gff\n",
    "gff2bed < At_cis.gff > At_cis.bed\n",
    "awk -F\"[\\t=]\" -v OFS=\"\\t\" '{$4=$12;print $1,$2,$3,$4,$5,$6}' At_cis.bed >At_cis.bed2\n",
    "cut -f 1,2 Athaliana_167_TAIR10.fa.fai > At_sizes\n",
    "bedtools flank -i At_cis.bed2 -g At_sizes -l 2000 -r 0 -s > At_promoters_2kb.bed\n",
    "bedtools getfasta -s -fi Athaliana_167_TAIR10.fa -bed At_promoters_2kb.bed -fo At_promoters_2kb.fa -name"
   ]
  },
  {
   "cell_type": "code",
   "execution_count": null,
   "id": "ff746941",
   "metadata": {},
   "outputs": [],
   "source": []
  },
  {
   "cell_type": "raw",
   "id": "9b325d1e",
   "metadata": {},
   "source": [
    "awk '{if($3~/^gene$/)print}' Avicennia_marina_marina.gff3 > Am_cis.gff\n",
    "gff2bed < Am_cis.gff > Am_cis.bed\n",
    "awk -F\"[\\t=;]\" -v OFS=\"\\t\" '{$4=$11;print $1,$2,$3,$4,$5,$6}' Am_cis.bed >Am_cis.bed2\n",
    "cut -f 1,2 Avicennia_marina_marina.fasta.fai > Am_sizes\n",
    "bedtools flank -i Am_cis.bed2 -g Am_sizes -l 2000 -r 0 -s > Am_promoters_2kb.bed\n",
    "bedtools getfasta -s -fi Avicennia_marina_marina.fasta -bed Am_promoters_2kb.bed -fo Am_promoters_2kb.fa -name"
   ]
  },
  {
   "cell_type": "code",
   "execution_count": null,
   "id": "2969278a",
   "metadata": {},
   "outputs": [],
   "source": []
  },
  {
   "cell_type": "raw",
   "id": "9d1c4042",
   "metadata": {},
   "source": [
    "awk '{if($3~/^gene$/)print}' Ntab-K326_AWOJ-SS_K326_rnaseq.gff3 > Ntab_cis.gff\n",
    "gff2bed < Ntab_cis.gff > Ntab_cis.bed\n",
    "awk -F\"[\\t=;]\" -v OFS=\"\\t\" '{$4=$11;print $1,$2,$3,$4,$5,$6}' Ntab_cis.bed >Ntab_cis.bed2\n",
    "cut -f 1,2 Ntab-K326_AWOJ-SS.fa.fai > Ntab_sizes\n",
    "bedtools flank -i Ntab_cis.bed2 -g Ntab_sizes -l 2000 -r 0 -s > Ntab_promoters_2kb.bed\n",
    "bedtools getfasta -s -fi Ntab-K326_AWOJ-SS.fa -bed Ntab_promoters_2kb.bed -fo Ntab_promoters_2kb.fa -name"
   ]
  },
  {
   "cell_type": "code",
   "execution_count": null,
   "id": "62c0a167",
   "metadata": {},
   "outputs": [],
   "source": []
  },
  {
   "cell_type": "raw",
   "id": "1a356e65",
   "metadata": {},
   "source": [
    "awk '{if($3~/^gene$/)print}' HvulgareMorex_702_V3.gene.gff3> HvulgareMorex_cis.gff\n",
    "gff2bed < HvulgareMorex_cis.gff > HvulgareMorex_cis.bed\n",
    "awk -F\"[\\t=;]\" -v OFS=\"\\t\" '{$4=$11;print $1,$2,$3,$4,$5,$6}' HvulgareMorex_cis.bed >HvulgareMorex_cis.bed2\n",
    "cut -f 1,2 HvulgareMorex_702_V3.fa.fai > HvulgareMorex_sizes\n",
    "bedtools flank -i HvulgareMorex_cis.bed2 -g HvulgareMorex_sizes -l 2000 -r 0 -s > HvulgareMorex_promoters_2kb.bed\n",
    "bedtools getfasta -s -fi HvulgareMorex_702_V3.fa -bed HvulgareMorex_promoters_2kb.bed -fo HvulgareMorex_promoters_2kb.fa -name"
   ]
  },
  {
   "cell_type": "raw",
   "id": "a402b293",
   "metadata": {},
   "source": [
    "awk '{if($3~/^gene$/)print}' KO.gff >KO_cis.gff\n",
    "gff2bed < KO_cis.gff > KO_cis.bed\n",
    "awk -F\"[\\t=;]\" -v OFS=\"\\t\" '{$4=$11;print $1,$2,$3,$4,$5,$6}' KO_cis.bed >KO_cis.bed2\n",
    "cut -f 1,2 KO.genome.fasta.fai > KO_sizes\n",
    "bedtools flank -i KO_cis.bed2 -g KO_sizes -l 2000 -r 0 -s > KO_promoters_2kb.bed\n",
    "bedtools getfasta -s -fi KO.genome.fasta -bed KO_promoters_2kb.bed -fo KO_promoters_2kb.fa -name"
   ]
  },
  {
   "cell_type": "code",
   "execution_count": null,
   "id": "6f468432",
   "metadata": {},
   "outputs": [],
   "source": []
  },
  {
   "cell_type": "raw",
   "id": "84d3f2dc",
   "metadata": {},
   "source": [
    "for(fa in c('Promoters_2kb.fa')){\n",
    "    promoters <- readDNAStringSet(paste0(\"Cis/\",fa))\n",
    "    genes <- lapply(names(promoters),function(x){\n",
    "            x <- unlist(str_split(x,\":\"))[1]\n",
    "    })\n",
    "    genes <- unlist(genes)\n",
    "    names(promoters) <- genes   \n",
    "    sub_DEGs <- DEGs %>%\n",
    "        dplyr::filter(group!='None') %>%\n",
    "        dplyr::filter(gene %in% names(promoters))   \n",
    "    promoters2 <- promoters[sub_DEGs$gene]\n",
    "    promoters2 <- promoters2[width(promoters2)>100] \n",
    "    NN <- letterFrequency(promoters2, \"N\", as.prob = TRUE)\n",
    "    promoters2 <- promoters2[NN<0.9]\n",
    "    #writeXStringSet(promoters2,filepath = paste0(\"Cis/Promoters_2kb_flt.fa\"),format = \"fasta\")  \n",
    "}"
   ]
  },
  {
   "cell_type": "code",
   "execution_count": 13,
   "id": "a3e3bbb9",
   "metadata": {},
   "outputs": [],
   "source": [
    "load(\"Cis/fourSpecies_DEG.RData\")"
   ]
  },
  {
   "cell_type": "raw",
   "id": "b4c61cfd",
   "metadata": {},
   "source": [
    "DEG <- DEGs %>%\n",
    "  dplyr::select(gene, group, Organism) \n",
    "promoters <- read.dna(\"Promoters_2kb_flt.fa\",format = \"fasta\")\n",
    "kmer_count <- kcount(promoters, k = 6)\n",
    "kmer_count[kmer_count>0] <- 1\n",
    "kmer_count2 <- kmer_count %>%\n",
    "  as_tibble() %>%\n",
    "  dplyr::mutate(gene=rownames(kmer_count)) %>%\n",
    "  dplyr::inner_join(DEG) "
   ]
  },
  {
   "cell_type": "code",
   "execution_count": null,
   "id": "224242f4",
   "metadata": {},
   "outputs": [],
   "source": []
  },
  {
   "cell_type": "raw",
   "id": "27db59cc",
   "metadata": {},
   "source": [
    "result <- NULL\n",
    "for(org in unique(kmer_count2$Organism)){\n",
    "  print(org)\n",
    "  for(reg in c('Up','Down')){\n",
    "    print(reg)\n",
    "    tmp <-kmer_count2 %>%\n",
    "      dplyr::filter(group %in% c(reg,\"NRG\") & Organism==org)\n",
    "    pvalue <- mclapply(colnames(tmp)[1:4096],function(motif){\n",
    "      tmp2 <- tmp[,c(motif,\"group\")]\n",
    "      tmp2$group <- ifelse(tmp2$group==\"NRG\",0,1)\n",
    "      tbl <- table(tmp2[,c(motif,\"group\")])\n",
    "      tbl.test <- fisher.test(tbl[2:1,2:1],alternative ='greater')\n",
    "      return(tbl.test$p.value)      \n",
    "    },mc.cores=100)\n",
    "    pvalue <- unlist(pvalue)\n",
    "    padjust <- p.adjust(pvalue,method='BH')\n",
    "    re <- data.frame(Organism=org,group=reg,motif=colnames(tmp)[1:4096],p.value=pvalue,p.adjust=padjust)\n",
    "    result <- rbind(result,re)\n",
    "  }\n",
    "}"
   ]
  },
  {
   "cell_type": "code",
   "execution_count": null,
   "id": "ba66717e",
   "metadata": {},
   "outputs": [],
   "source": []
  },
  {
   "cell_type": "raw",
   "id": "e24e5379",
   "metadata": {},
   "source": [
    "for(org in c(\"Avicennia marina\",\"Arabidopsis thaliana\",\"Hvulgare Morex\",\"Nicotiana tabacum\")){\n",
    "  print(org)\n",
    "  motif <- result %>%\n",
    "    dplyr::filter(Organism==org) %>%\n",
    "    dplyr::filter(p.adjust<0.05) %>%\n",
    "    dplyr::select(motif) %>%\n",
    "    unique()\n",
    "  tmp <- kmer_count2 %>%\n",
    "    dplyr::filter(group %in% c('Up','Down',\"NRG\") & Organism==org) %>%\n",
    "    mutate(group=ifelse(group==\"NRG\",\"NRG\",\"RG\"))\n",
    "  data <- tmp[,colnames(tmp) %in% c(motif$motif,'group')]\n",
    "  set.seed(123)\n",
    "  newdata <- SMOTE(data[,-ncol(data)],data[,ncol(data)],dup_size =0,K=5)$data\n",
    "  inx <- sample(1:nrow(newdata),0.75*nrow(newdata))\n",
    "  train <- newdata[inx,]\n",
    "  test <- newdata[-inx,]\n",
    "  set.seed(123)\n",
    "  rf <- randomForest(factor(class)~., data = train,importance = TRUE)\n",
    "  #save(train,test,rf,file=paste0(org,\"_motif_model.Rdata\"))\n",
    "}"
   ]
  },
  {
   "cell_type": "code",
   "execution_count": 15,
   "id": "d3c0dac3",
   "metadata": {},
   "outputs": [
    {
     "name": "stdout",
     "output_type": "stream",
     "text": [
      "[1] \"Cis/Avicennia marina_motif_model.Rdata\"\n",
      "[1] \"AUC-ROC: 0.971\"\n",
      "[1] \"Cis/Arabidopsis thaliana_motif_model.Rdata\"\n",
      "[1] \"AUC-ROC: 0.996\"\n",
      "[1] \"Cis/Hvulgare Morex_motif_model.Rdata\"\n",
      "[1] \"AUC-ROC: 0.871\"\n",
      "[1] \"Cis/Nicotiana tabacum_motif_model.Rdata\"\n",
      "[1] \"AUC-ROC: 0.963\"\n"
     ]
    }
   ],
   "source": [
    "roclist <- NULL\n",
    "IMP <- NULL\n",
    "AUC <- c()\n",
    "for(org in c(\"Avicennia marina\",\"Arabidopsis thaliana\",\"Hvulgare Morex\",\"Nicotiana tabacum\")){\n",
    "    f <- paste0(\"Cis/\",org,\"_motif_model.Rdata\")\n",
    "    print(f)\n",
    "    load(f)\n",
    "    imp <- rf$importance %>%\n",
    "            as.data.frame() \n",
    "    imp <- imp %>%\n",
    "        mutate(motif=rownames(imp)) %>%\n",
    "        arrange(desc(MeanDecreaseAccuracy)) %>%\n",
    "        mutate(Organism=org) %>%\n",
    "        mutate(importance=(MeanDecreaseAccuracy-min(MeanDecreaseAccuracy))/(max(MeanDecreaseAccuracy)-min(MeanDecreaseAccuracy))) %>%\n",
    "        head(10)\n",
    "    IMP <- rbind(IMP,imp)\n",
    "    rf_pred <- predict(rf,test,type=\"prob\")\n",
    "    predob <- prediction(rf_pred[,2], test$class)\n",
    "    perf <- performance(predob, 'tpr','fpr')\n",
    "    perf.auc<- performance(predob, measure = 'auc', x.measure = 'cutoff')\n",
    "    Auc <- paste0(\"AUC-ROC: \",sprintf(\"%.3f\",unlist(perf.auc@y.values)))\n",
    "    print(Auc)\n",
    "    AUC <- c(AUC,Auc)\n",
    "    re <- data.frame(x = attributes(perf)$x.values[[1]],\n",
    "                     y = attributes(perf)$y.values[[1]],\n",
    "                     Organism=org)\n",
    "    roclist <- rbind(roclist,re)\n",
    "}"
   ]
  },
  {
   "cell_type": "code",
   "execution_count": 16,
   "id": "3d4e1ff8",
   "metadata": {},
   "outputs": [],
   "source": [
    "labels <- data.frame(Organism=c('Avicennia marina','Arabidopsis thaliana','Hvulgare Morex','Nicotiana tabacum'),\n",
    "                      label = AUC)"
   ]
  },
  {
   "cell_type": "markdown",
   "id": "7a5593b2",
   "metadata": {},
   "source": [
    "# Figure 5A"
   ]
  },
  {
   "cell_type": "code",
   "execution_count": 17,
   "id": "3bad4fbf",
   "metadata": {},
   "outputs": [
    {
     "name": "stderr",
     "output_type": "stream",
     "text": [
      "Warning message:\n",
      "\"\u001b[1m\u001b[22mUsing `size` aesthetic for lines was deprecated in ggplot2 3.4.0.\n",
      "\u001b[36mℹ\u001b[39m Please use `linewidth` instead.\"\n"
     ]
    },
    {
     "data": {
      "image/png": "[encoded data removed]",
      "text/plain": [
       "plot without title"
      ]
     },
     "metadata": {
      "image/png": {
       "height": 480,
       "width": 240
      }
     },
     "output_type": "display_data"
    }
   ],
   "source": [
    "options(repr.plot.width=4, repr.plot.height=8)\n",
    "Figure5A <- roclist %>%\n",
    "  ggplot()+\n",
    "  geom_line(aes(x,y,color=Organism),size = 1) + \n",
    "  xlab(\"1-Specificity\") +\n",
    "  ylab(\"Sensitivity\") +\n",
    "  facet_wrap(~Organism,ncol=1)+\n",
    "  theme(axis.text=element_text(size=8,color='black'),\n",
    "        axis.title=element_text(size=8),\n",
    "        axis.text.x = element_text(angle=0),\n",
    "        panel.background = element_blank(),\n",
    "        legend.position='none',strip.text.x = element_text(size = 12, colour = \"black\"),\n",
    "        #strip.background = element_rect(color=\"white\",fill='white'),\n",
    "        axis.line = element_line(colour = \"black\",size = 0.5))+\n",
    "  geom_text(x = 0.75, y = 0.25, aes(label = label), data = labels)+\n",
    "  geom_abline(intercept = 0, slope = 1,linetype='dashed')+\n",
    "scale_color_manual(values = c('#4dbbd5','#e64635','#00a087','#3c5488'))\n",
    "Figure5A"
   ]
  },
  {
   "cell_type": "markdown",
   "id": "96085774",
   "metadata": {},
   "source": [
    "# Figure 5B"
   ]
  },
  {
   "cell_type": "code",
   "execution_count": 19,
   "id": "3513a3c5",
   "metadata": {},
   "outputs": [
    {
     "data": {
      "image/png": "[encoded data removed]",
      "text/plain": [
       "plot without title"
      ]
     },
     "metadata": {
      "image/png": {
       "height": 480,
       "width": 240
      }
     },
     "output_type": "display_data"
    }
   ],
   "source": [
    "options(repr.plot.width=4, repr.plot.height=8)\n",
    "Figure5B <- IMP %>%\n",
    "    ggplot(aes(reorder(motif,importance),importance,fill=Organism))+\n",
    "        geom_bar(stat='identity',width=0.5)+\n",
    "    facet_wrap(~Organism,scale='free_y',ncol=1)+\n",
    "    theme_cleveland()+\n",
    "        theme(axis.text=element_text(size=8,color='black'),\n",
    "              axis.title=element_text(size=8),\n",
    "               axis.text.x = element_text(angle=0),\n",
    "              panel.background = element_blank(),\n",
    "              legend.position='none',strip.text = element_text(size = 12, colour = \"black\"),\n",
    "              #strip.background = element_rect(color=\"white\",fill='white'),\n",
    "             axis.line = element_line(colour = \"black\",size = 0.5))+\n",
    "ylab('Relative importance')+xlab('')+\n",
    "coord_flip()+\n",
    "scale_fill_manual(values = c('#4dbbd5','#e64635','#00a087','#3c5488'))\n",
    "Figure5B"
   ]
  },
  {
   "cell_type": "code",
   "execution_count": null,
   "id": "c425e4b4",
   "metadata": {},
   "outputs": [],
   "source": []
  }
 ],
 "metadata": {
  "kernelspec": {
   "display_name": "R",
   "language": "R",
   "name": "ir"
  },
  "language_info": {
   "codemirror_mode": "r",
   "file_extension": ".r",
   "mimetype": "text/x-r-source",
   "name": "R",
   "pygments_lexer": "r",
   "version": "4.4.2"
  }
 },
 "nbformat": 4,
 "nbformat_minor": 5
}
